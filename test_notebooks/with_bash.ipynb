{
 "cells": [
  {
   "cell_type": "code",
   "execution_count": null,
   "id": "512e14ae",
   "metadata": {},
   "outputs": [],
   "source": [
    "%%bash\n",
    "echo 'hello world'\n",
    "echo 'this is a multiline bash'"
   ]
  },
  {
   "cell_type": "code",
   "execution_count": null,
   "id": "9510f07c",
   "metadata": {},
   "outputs": [],
   "source": [
    "def this_is_a_function():\n",
    "    print(\"This is a function\")"
   ]
  },
  {
   "cell_type": "markdown",
   "id": "90e6213a",
   "metadata": {},
   "source": [
    "Now we **execute** the function:"
   ]
  },
  {
   "cell_type": "code",
   "execution_count": null,
   "id": "4df2613a",
   "metadata": {},
   "outputs": [],
   "source": [
    "this_is_a_function()"
   ]
  }
 ],
 "metadata": {
  "kernelspec": {
   "display_name": "test-nb",
   "language": "python",
   "name": "python3"
  },
  "language_info": {
   "codemirror_mode": {
    "name": "ipython",
    "version": 3
   },
   "file_extension": ".py",
   "mimetype": "text/x-python",
   "name": "python",
   "nbconvert_exporter": "python",
   "pygments_lexer": "ipython3",
   "version": "3.13.5"
  }
 },
 "nbformat": 4,
 "nbformat_minor": 5
}

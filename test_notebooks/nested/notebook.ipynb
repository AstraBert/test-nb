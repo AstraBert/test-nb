{
 "cells": [
  {
   "cell_type": "code",
   "execution_count": null,
   "id": "ba92c8aa",
   "metadata": {},
   "outputs": [],
   "source": [
    "! echo \"hello world!\""
   ]
  }
 ],
 "metadata": {
  "language_info": {
   "name": "python"
  }
 },
 "nbformat": 4,
 "nbformat_minor": 5
}

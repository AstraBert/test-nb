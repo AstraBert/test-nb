{
 "cells": [
  {
   "cell_type": "code",
   "execution_count": null,
   "id": "578cb9e6",
   "metadata": {},
   "outputs": [],
   "source": [
    "! pip install termcolor"
   ]
  },
  {
   "cell_type": "markdown",
   "id": "10a4158a",
   "metadata": {},
   "source": [
    "This is _some_ **markdown** text which will be displayed as a `code comment`"
   ]
  },
  {
   "cell_type": "code",
   "execution_count": null,
   "id": "faf5469f",
   "metadata": {},
   "outputs": [],
   "source": [
    "from termcolor import cprint\n",
    "\n",
    "cprint(\"hello world\", color=\"red\", attrs=[\"bold\"])"
   ]
  }
 ],
 "metadata": {
  "kernelspec": {
   "display_name": "test-nb",
   "language": "python",
   "name": "python3"
  },
  "language_info": {
   "name": "python",
   "version": "3.13.5"
  }
 },
 "nbformat": 4,
 "nbformat_minor": 5
}

{
 "cells": [
  {
   "cell_type": "code",
   "execution_count": null,
   "id": "f4901f79",
   "metadata": {},
   "outputs": [],
   "source": [
    "import os\n",
    "\n",
    "os.environ[\"SUPER_SECRET_KEY\"] = \"this is a key\""
   ]
  },
  {
   "cell_type": "code",
   "execution_count": null,
   "id": "adcdc007",
   "metadata": {},
   "outputs": [],
   "source": [
    "k = os.getenv(\"SUPER_SECRET_KEY\", \"There is no super secret key\")\n",
    "print(k)"
   ]
  }
 ],
 "metadata": {
  "language_info": {
   "name": "python"
  }
 },
 "nbformat": 4,
 "nbformat_minor": 5
}
